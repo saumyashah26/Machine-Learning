{
 "cells": [
  {
   "cell_type": "code",
   "execution_count": 1,
   "metadata": {},
   "outputs": [],
   "source": [
    "import pandas as pd\n",
    "import numpy as np\n",
    "import matplotlib.pyplot as plt\n"
   ]
  },
  {
   "cell_type": "code",
   "execution_count": 2,
   "metadata": {},
   "outputs": [],
   "source": [
    "df = pd.read_csv(\"mnist_train (1).csv\")"
   ]
  },
  {
   "cell_type": "code",
   "execution_count": 3,
   "metadata": {},
   "outputs": [
    {
     "name": "stderr",
     "output_type": "stream",
     "text": [
      "C:\\Users\\Saumya Shah\\Anaconda3\\anap\\lib\\site-packages\\ipykernel_launcher.py:16: FutureWarning: Method .as_matrix will be removed in a future version. Use .values instead.\n",
      "  app.launch_new_instance()\n"
     ]
    },
    {
     "name": "stdout",
     "output_type": "stream",
     "text": [
      "[[5923]\n",
      " [6742]\n",
      " [5958]\n",
      " [6131]\n",
      " [5842]\n",
      " [5421]\n",
      " [5918]\n",
      " [6265]\n",
      " [5851]\n",
      " [5949]]\n"
     ]
    }
   ],
   "source": [
    "df.sort_values(by=['label'],ascending=True,inplace=True)\n",
    "x_train = df.iloc[:,1:785]\n",
    "y_train = df.iloc[:,0]\n",
    "\n",
    "#for i in range(10):\n",
    "#    z = x_train.iloc[i,:]\n",
    "#    z = np.asarray(z)\n",
    "#    w = z.reshape(28,28)\n",
    "#    plt.imshow(w,cmap='gray')\n",
    "#    plt.show()\n",
    "count = np.zeros([10,1],dtype='int')\n",
    "for i in range(len(y_train)):\n",
    "    count[int(y_train.iloc[i])]=count[int(y_train.iloc[i])]+1\n",
    "    \n",
    "m = len(count)\n",
    "datas = df.as_matrix()\n",
    "x_train = datas[:,1:785]\n",
    "y_train = datas[:,0]\n",
    "for i in range(len(y_train)):\n",
    "    x_train[i,:] = (x_train[i,:]-x_train[i,:].mean())/x_train[i,:].std()\n",
    "print(count)\n",
    "mean = np.zeros([10,784],dtype='int64')\n",
    "k = 0\n",
    "x = 0                                           # x=0 creates nd array\n",
    "for i in range(m):\n",
    "    h = x+count[i]\n",
    "    for j in range(784):\n",
    "        mean[k][j] =float((float(np.sum(x_train[int(x):int(h),j])))/float(count[i]))\n",
    "    x = x + count[i]\n",
    "    k = k + 1\n",
    "sigma = 0\n",
    "sigma = np.empty([len(y_train),784],dtype='int')\n",
    "q=0\n",
    "for i in range(m):\n",
    "    for j in range(int(count[i])):\n",
    "        sigma[int(q)+j,:] = x_train[int(q)+j,:]-mean[i,:]\n",
    "    q = q + count[i]\n",
    "#final_sigma = np.empty([10,784,784],dtype='float')\n",
    "#x = 0\n",
    "#temp = np.zeros([784,784],dtype='float')\n",
    "#k = 0\n",
    "#cnt = 0\n",
    "#s = int(count[0])\n",
    "#print(sigma[:,1])\n",
    "#print(sigma.T[1,:])\n",
    "#for i in range(len(y_train)):\n",
    "#    cnt = 0\n",
    "#   if(i>s-1):\n",
    "#        final_sigma[int(k)]=temp\n",
    "#        k=k+1\n",
    "#        temp = np.zeros([784,784],dtype='float')\n",
    "#        s+=int(count[int(k)])\n",
    "#    temp = temp + ((np.dot((sigma[i,:]).reshape(784,1),(sigma.T[:,i]).reshape(1,784)))/(count[int(k)]))\n",
    "#    final_sigma[int(k)]=temp"
   ]
  },
  {
   "cell_type": "code",
   "execution_count": 4,
   "metadata": {},
   "outputs": [
    {
     "name": "stdout",
     "output_type": "stream",
     "text": [
      "(10, 784, 784)\n"
     ]
    }
   ],
   "source": [
    "x = 0\n",
    "final_sigma = np.empty([10,784,784],dtype='int')\n",
    "for i in range(m):\n",
    "    h = x + count[i]\n",
    "    final_sigma[i] = (np.dot(sigma[int(x):int(h),:].T,sigma[int(x):int(h),:]))\n",
    "    x = x + count[i]\n",
    "print(final_sigma.shape)\n",
    "#cnt = 0\n",
    "#for i in range(10):\n",
    "#    for j in range(784):\n",
    "#        for k in range(784):\n",
    "#            if(final_sigma[i,j,k]==0):\n",
    "#                cnt+=1\n",
    "#print(cnt)                "
   ]
  },
  {
   "cell_type": "code",
   "execution_count": 5,
   "metadata": {},
   "outputs": [
    {
     "name": "stderr",
     "output_type": "stream",
     "text": [
      "C:\\Users\\Saumya Shah\\Anaconda3\\anap\\lib\\site-packages\\ipykernel_launcher.py:4: FutureWarning: Method .as_matrix will be removed in a future version. Use .values instead.\n",
      "  after removing the cwd from sys.path.\n"
     ]
    }
   ],
   "source": [
    "dff = pd.read_csv(\"mnist_test.csv\")\n",
    "x_test = df.iloc[:,1:785]\n",
    "y_test = df.iloc[:,0]\n",
    "datass = dff.as_matrix()\n",
    "x_test = datass[:,1:785]\n",
    "y_test = datass[:,0]\n",
    "    #print(final_sigma[i].shape)\n",
    "    #print(tt)\n",
    "#updated_sigma = np.zeros([784,784],dtype='float')\n",
    "#for i in range(m):\n",
    "#        updated_sigma += final_sigma[i]\n",
    "#updated_sigma = ((updated_sigma)/float(m))"
   ]
  },
  {
   "cell_type": "code",
   "execution_count": 14,
   "metadata": {},
   "outputs": [],
   "source": [
    "import math as mt\n",
    "pred = np.zeros([10,1],dtype='int')\n",
    "val = np.zeros([1,784],dtype='int')\n",
    "vall = np.zeros([784,1],dtype='int')\n",
    "s = np.zeros([784,784],dtype='int')\n",
    "for i in range(10):\n",
    "    predictor = 0\n",
    "    maxi = -9999999999\n",
    "    for j in range(m):\n",
    "        tt=np.linalg.det(final_sigma[j])\n",
    "        if tt!=0:\n",
    "            fa = (-1/2)*mt.log(tt)-(1/2)*((x_test[i,:]-mean[j,:])@np.linalg.pinv(final_sigma[j])@((x_test[i,:]-mean[j,:]).T))+ mt.log(count[j] / len(y_train))\n",
    "        else:\n",
    "            val = (x_test[i]-mean[j])\n",
    "            sig_inv = np.linalg.pinv(final_sigma[j,:,:])\n",
    "            vall = val.T\n",
    "            dot1 = np.dot(sig_inv,vall)\n",
    "            dot2 = np.dot(val,dot1)\n",
    "            fa = -0.5*dot2 + mt.log((count[j])/len(y_train))\n",
    "            #print(fa)\n",
    "        if(fa>maxi):\n",
    "            maxi=fa\n",
    "            predictor=j\n",
    "    pred[i]=predictor\n",
    "    "
   ]
  },
  {
   "cell_type": "code",
   "execution_count": 15,
   "metadata": {},
   "outputs": [
    {
     "name": "stdout",
     "output_type": "stream",
     "text": [
      "100.0\n",
      "[[2]\n",
      " [1]\n",
      " [0]\n",
      " [4]\n",
      " [1]\n",
      " [4]\n",
      " [9]\n",
      " [5]\n",
      " [9]\n",
      " [0]]\n"
     ]
    }
   ],
   "source": [
    "cnt=0\n",
    "for i in range(10):\n",
    "    if(pred[i]==y_test[i]):\n",
    "        cnt+=1\n",
    "print((int(cnt)/10)*100)\n",
    "print(pred)"
   ]
  },
  {
   "cell_type": "code",
   "execution_count": null,
   "metadata": {},
   "outputs": [],
   "source": []
  },
  {
   "cell_type": "code",
   "execution_count": null,
   "metadata": {},
   "outputs": [],
   "source": []
  }
 ],
 "metadata": {
  "kernelspec": {
   "display_name": "Python 3",
   "language": "python",
   "name": "python3"
  },
  "language_info": {
   "codemirror_mode": {
    "name": "ipython",
    "version": 3
   },
   "file_extension": ".py",
   "mimetype": "text/x-python",
   "name": "python",
   "nbconvert_exporter": "python",
   "pygments_lexer": "ipython3",
   "version": "3.7.1"
  }
 },
 "nbformat": 4,
 "nbformat_minor": 2
}
