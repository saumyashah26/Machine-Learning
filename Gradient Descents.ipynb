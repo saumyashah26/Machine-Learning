{
 "cells": [
  {
   "cell_type": "code",
   "execution_count": 151,
   "metadata": {},
   "outputs": [],
   "source": [
    "import pandas as pd\n",
    "import numpy as np\n",
    "from matplotlib import pyplot as p\n",
    "#from array import *\n",
    "import random\n",
    "import sympy as sy\n"
   ]
  },
  {
   "cell_type": "code",
   "execution_count": 2,
   "metadata": {},
   "outputs": [
    {
     "name": "stdout",
     "output_type": "stream",
     "text": [
      "1.8600766854263126e-88\n"
     ]
    }
   ],
   "source": [
    "#q1-1\n",
    "x=1\n",
    "a=0.01\n",
    "def fun(x):\n",
    "    return x**2\n",
    "def d_fun(x):\n",
    "    return 2*x\n",
    "for i in range(1,10000):\n",
    "    x=x-a*d_fun(x)\n",
    "print(x)"
   ]
  },
  {
   "cell_type": "code",
   "execution_count": 10,
   "metadata": {},
   "outputs": [
    {
     "name": "stdout",
     "output_type": "stream",
     "text": [
      "[[1232.20729997]\n",
      " [ 653.23988969]]\n",
      "[[1.51590076e-94]\n",
      " [8.03636565e-95]]\n"
     ]
    }
   ],
   "source": [
    "#q1-2\n",
    "\n",
    "a=0.1\n",
    "theta = 10000*np.random.rand(2,1)\n",
    "print(theta)\n",
    "for i in range(1000):\n",
    "    theta = theta - a*(2*theta)\n",
    "print(theta)"
   ]
  },
  {
   "cell_type": "code",
   "execution_count": 14,
   "metadata": {},
   "outputs": [
    {
     "name": "stdout",
     "output_type": "stream",
     "text": [
      "1.0\n"
     ]
    }
   ],
   "source": [
    "#q1-3\n",
    "x=1\n",
    "a=0.1\n",
    "def fun(x):\n",
    "    return 2*(x-1)**2\n",
    "def d_fun(x):\n",
    "    return 2*(x-1)\n",
    "for i in range(1,10000):\n",
    "    x=x-a*d_fun(x)\n",
    "print(x)"
   ]
  },
  {
   "cell_type": "code",
   "execution_count": 15,
   "metadata": {},
   "outputs": [
    {
     "name": "stdout",
     "output_type": "stream",
     "text": [
      "[[1.]\n",
      " [1.]]\n"
     ]
    }
   ],
   "source": [
    "#q1-4\n",
    "\n",
    "a=0.01\n",
    "theta = np.random.rand(2,1)\n",
    "for i in range(1000):\n",
    "    theta = theta - a*(2*(theta-1))\n",
    "print(theta)"
   ]
  },
  {
   "cell_type": "code",
   "execution_count": 70,
   "metadata": {
    "scrolled": true
   },
   "outputs": [
    {
     "name": "stdout",
     "output_type": "stream",
     "text": [
      "[[23.71808511]\n",
      " [-6.86699545]]\n"
     ]
    }
   ],
   "source": [
    "#q1-e\n",
    "d=ps.read_excel('data for problem1.xlsx')\n",
    "mx=(d.x-np.mean(d.x))/np.std(d.x)\n",
    "my=d.y\n",
    "\n",
    "\n",
    "#t1=1\n",
    "#t2=1\n",
    "#a=0.1\n",
    "#for i in range(0,100):\n",
    "    #y=0\n",
    "   # for i in range(0,93):\n",
    "    #    y=y+my[i]-t1-t2*mx[i]\n",
    "        \n",
    "   # y=-y/94\n",
    "    \n",
    "  #  yy=0\n",
    " #   for i in range(0,93):\n",
    "    #    yy=yy+mx[i]*(my[i]-t1-t2*mx[i])\n",
    "   # yy=-yy/94\n",
    "    \n",
    "  #  t1=t1-a*y\n",
    " #   t2=t2-a*yy\n",
    "#print(t1)\n",
    "#print(t2)\n",
    "\n",
    "\n",
    "e = np.ones((mx.shape[0],1))\n",
    "mx2= np.column_stack((e, mx))\n",
    "my=my.values\n",
    "my = my.reshape((94, 1))\n",
    "#print(mx2)\n",
    "#print(my.shape)\n",
    "\n",
    "x= np.random.rand(2,1)\n",
    "m = mx2.shape[0]\n",
    "a=0.01\n",
    "\n",
    "for i in range(10000):\n",
    "    x1 = my - np.matmul(mx2,x)\n",
    "    x2 = np.matmul(mx2.transpose(),x1)\n",
    "    x = x + (a)*x2\n",
    "print(x)"
   ]
  },
  {
   "cell_type": "code",
   "execution_count": 94,
   "metadata": {},
   "outputs": [
    {
     "name": "stdout",
     "output_type": "stream",
     "text": [
      "22.461993028803644\n",
      "-7.428412162244469\n"
     ]
    }
   ],
   "source": [
    "#q2\n",
    "import random as r\n",
    "d=ps.read_excel('data for problem1.xlsx')\n",
    "mx=(d.x-np.mean(d.x))/np.std(d.x)\n",
    "my=d.y\n",
    "mx\n",
    "t1=0.5\n",
    "t2=0.5\n",
    "a=0.1\n",
    "for i in range(0,100):\n",
    "    k=r.randrange(0,93,1)\n",
    "    y=my[k]-t1-t2*mx[k]\n",
    "    yy=mx[k]*(my[k]-t1-t2*mx[k])\n",
    "    t1=t1+a*y\n",
    "    t2=t2+a*yy\n",
    "print(t1)\n",
    "print(t2)"
   ]
  },
  {
   "cell_type": "code",
   "execution_count": 133,
   "metadata": {},
   "outputs": [
    {
     "name": "stdout",
     "output_type": "stream",
     "text": [
      "0.0\n"
     ]
    }
   ],
   "source": [
    "#q3-1\n",
    "from array import *\n",
    "def j1(a,x):\n",
    "    return -4*(1 - 2*a)*x*x\n",
    "def j2(a,x):\n",
    "    return 8*x*x\n",
    "\n",
    "\n",
    "x=1\n",
    "x0=x\n",
    "e=10\n",
    "a = 1;\n",
    "ev = array('f');\n",
    "while abs(e) > 0.0001 : \n",
    "    xx = x;\n",
    "    x = x - a *(2*x)\n",
    "    e = xx-x\n",
    "    ev.append(abs(e))\n",
    "    a=a-j1(a,x0)/j2(a,x0)\n",
    "print(x);\n",
    "#p.plot(ev);\n",
    "#p.xlabel('Iterations');\n",
    "#p.ylabel('Error');\n",
    "#p.title('Errors');"
   ]
  },
  {
   "cell_type": "code",
   "execution_count": 137,
   "metadata": {},
   "outputs": [
    {
     "name": "stdout",
     "output_type": "stream",
     "text": [
      "[[0.]\n",
      " [0.]]\n"
     ]
    }
   ],
   "source": [
    "#q3-2\n",
    "def j1(a,x):\n",
    "    return -4*(1 - 2*a)*x*x\n",
    "def j2(a,x):\n",
    "    return 8*x*x\n",
    "\n",
    "\n",
    "x=np.random.rand(2,1)\n",
    "x0=x\n",
    "e=10\n",
    "a = 1;\n",
    "#print(x0,x0*x0)\n",
    "while abs(e) > 0.0001 : \n",
    "    xx = x;\n",
    "    x = x - a *(2*x)\n",
    "    e = abs(xx[0]-x[0])+abs(xx[1]-x[1])\n",
    "    e=e/2\n",
    "    a=a-j1(a,x0)/j2(a,x0)\n",
    "print(x);"
   ]
  },
  {
   "cell_type": "code",
   "execution_count": 146,
   "metadata": {},
   "outputs": [
    {
     "name": "stdout",
     "output_type": "stream",
     "text": [
      "1.0\n",
      "3\n"
     ]
    }
   ],
   "source": [
    "#q3-3\n",
    "def j1(a,x):\n",
    "    return 8*a*(x-1)*(x-1)-4*x*(x-1)+4*(x-1)\n",
    "def j2(a,x):\n",
    "    return 8*(x-1)*(x-1)\n",
    "\n",
    "\n",
    "x=10\n",
    "x0=x\n",
    "e=1\n",
    "a = 100;\n",
    "ev = array('f');\n",
    "i=0\n",
    "while abs(e) > 0.0001 : \n",
    "    xx = x;\n",
    "    x = x - a *(2*(x-1))\n",
    "    e = xx-x\n",
    "    i=i+1\n",
    "    ev.append(abs(e))\n",
    "    a=a-j1(a,x0)/j2(a,x0)\n",
    "print(x);\n",
    "#p.plot(ev);\n",
    "#p.xlabel('Iterations');\n",
    "#p.ylabel('Error');\n",
    "#p.title('Errors');\n",
    "print(i)"
   ]
  },
  {
   "cell_type": "code",
   "execution_count": 147,
   "metadata": {},
   "outputs": [
    {
     "name": "stdout",
     "output_type": "stream",
     "text": [
      "[[1.]\n",
      " [1.]]\n",
      "3\n"
     ]
    }
   ],
   "source": [
    "#q3-4\n",
    "def j1(a,x):\n",
    "    return 8*a*(x-1)*(x-1)-4*x*(x-1)+4*(x-1)\n",
    "def j2(a,x):\n",
    "    return 8*(x-1)*(x-1)\n",
    "\n",
    "\n",
    "x=np.random.rand(2,1)\n",
    "x0=x\n",
    "e=10\n",
    "a = 1;\n",
    "i=0;\n",
    "while abs(e) > 0.0001 : \n",
    "    xx = x;\n",
    "    x = x - a *(2*(x-1))\n",
    "    e = abs(xx[0]-x[0])+abs(xx[1]-x[1])\n",
    "    e=e/2\n",
    "    a=a-j1(a,x0)/j2(a,x0)\n",
    "    i=i+1\n",
    "print(x);\n",
    "print(i)"
   ]
  },
  {
   "cell_type": "code",
   "execution_count": 5,
   "metadata": {},
   "outputs": [
    {
     "name": "stdout",
     "output_type": "stream",
     "text": [
      "188.0*t0 - 1.31561428418081e-14*t1 - 4459.0\n",
      "23.718085106382983 -6.866995447255372 2\n"
     ]
    }
   ],
   "source": [
    "#3-5\n",
    "import numpy as np\n",
    "import pandas as pd\n",
    "import random\n",
    "import matplotlib.pyplot as pl\n",
    "from mpl_toolkits import mplot3d\n",
    "import statistics as st\n",
    "import sympy as sy\n",
    "\n",
    "data=pd.read_excel('data for problem1.xlsx')\n",
    "x=np.array(data['x'])\n",
    "y=np.array(data['y'])\n",
    "x=(x-np.mean(x))/np.std(x)\n",
    "o0=10\n",
    "o1=10\n",
    "\n",
    "t0=sy.Symbol('t0');\n",
    "t1=sy.Symbol('t1');\n",
    "\n",
    "eq=sy.simplify(sum([(y[i]-(t0+t1*x[i]))**2 for i in range(len(x))]))\n",
    "#print(eq)\n",
    "part0=sy.diff(eq,t0)\n",
    "part1=sy.diff(eq,t1)\n",
    "part00=sy.lambdify([t0,t1],part0,'numpy')\n",
    "part11=sy.lambdify([t0,t1],part1,'numpy')\n",
    "print(part0)\n",
    "#print(part00)\n",
    "\n",
    "a=sy.Symbol('a')\n",
    "eq1=sy.simplify(sum([(y[i]-(t0-a*part0+(t1-a*part1)*x[i]))**2 for i in range(len(x))]))\n",
    "diff1=sy.diff(eq1,a);\n",
    "diff2=sy.diff(diff1,a);\n",
    "diff1=sy.lambdify([a,t0,t1],diff1,'numpy')\n",
    "diff2=sy.lambdify([a,t0,t1],diff2,'numpy')\n",
    "prev0=o0+1\n",
    "prev1=o1+1\n",
    "\n",
    "eps=1e-10\n",
    "alpha=0.1\n",
    "ni=0\n",
    "while(abs(o0-prev0)>=eps or abs(o1-prev1)>=eps ):\n",
    "    prev0=o0\n",
    "    prev1=o1\n",
    "    alpha=alpha-diff1(alpha,10,10)/diff2(alpha,10,10)\n",
    "    o0=o0-alpha*part00(prev0,prev1)\n",
    "    o1=o1-alpha*part11(prev0,prev1)\n",
    "    ni=ni+1\n",
    "print(o0,o1,ni)"
   ]
  },
  {
   "cell_type": "code",
   "execution_count": 92,
   "metadata": {},
   "outputs": [
    {
     "name": "stdout",
     "output_type": "stream",
     "text": [
      "[[23.71808511]\n",
      " [-6.86699545]]\n"
     ]
    }
   ],
   "source": [
    "#practis q1\n",
    "def value(x,y,t,x2):\n",
    "    m=np.random.rand(2,1)\n",
    "    m[0]=np.sum(y-(x*t))\n",
    "    m[1]=np.sum(np.multiply(y-x*t,x2))\n",
    "    return m\n",
    "\n",
    "d=pd.read_excel(\"data for Problem1.xlsx\")\n",
    "x=d['x']\n",
    "y=d['y']\n",
    "y=np.matrix(y).T\n",
    "x=(x-np.mean(x))/np.std(x)\n",
    "x=np.matrix(x).T\n",
    "x2=x\n",
    "o=np.matrix(np.ones(len(x))).T\n",
    "x=np.concatenate((o,x),axis=1)\n",
    "t=np.random.rand(2,1)\n",
    "a=0.001\n",
    "\n",
    "\n",
    "for i in range(10000):\n",
    "    t=t+(a)*value(x,y,t,x2)\n",
    "\n",
    "print(t)"
   ]
  },
  {
   "cell_type": "code",
   "execution_count": 130,
   "metadata": {},
   "outputs": [
    {
     "name": "stdout",
     "output_type": "stream",
     "text": [
      "[[23.73350866]\n",
      " [-6.83886397]]\n"
     ]
    }
   ],
   "source": [
    "#practice q2\n",
    "def value(x,y,t,x2):\n",
    "    m=np.random.rand(2,1)\n",
    "    k=random.randrange(len(y))\n",
    "    m[0]=y[k]-(x[k]*t)\n",
    "    m[1]=(y[k]-x[k]*t)*x2[k]\n",
    "    return m\n",
    "\n",
    "d=pd.read_excel(\"data for Problem1.xlsx\")\n",
    "x=d['x']\n",
    "y=d['y']\n",
    "y=np.matrix(y).T\n",
    "x=(x-np.mean(x))/np.std(x)\n",
    "x=np.matrix(x).T\n",
    "x2=x\n",
    "o=np.matrix(np.ones(len(x))).T\n",
    "x=np.concatenate((o,x),axis=1)\n",
    "t=np.random.rand(2,1)\n",
    "a=0.001\n",
    "\n",
    "\n",
    "for i in range(10000):\n",
    "    t=t+(a)*value(x,y,t,x2)\n",
    "\n",
    "print(t)"
   ]
  },
  {
   "cell_type": "code",
   "execution_count": 129,
   "metadata": {},
   "outputs": [
    {
     "name": "stdout",
     "output_type": "stream",
     "text": [
      "[[0]]\n"
     ]
    }
   ],
   "source": []
  },
  {
   "cell_type": "code",
   "execution_count": null,
   "metadata": {},
   "outputs": [],
   "source": []
  },
  {
   "cell_type": "code",
   "execution_count": null,
   "metadata": {},
   "outputs": [],
   "source": []
  }
 ],
 "metadata": {
  "kernelspec": {
   "display_name": "Python 3",
   "language": "python",
   "name": "python3"
  },
  "language_info": {
   "codemirror_mode": {
    "name": "ipython",
    "version": 3
   },
   "file_extension": ".py",
   "mimetype": "text/x-python",
   "name": "python",
   "nbconvert_exporter": "python",
   "pygments_lexer": "ipython3",
   "version": "3.7.1"
  }
 },
 "nbformat": 4,
 "nbformat_minor": 2
}
